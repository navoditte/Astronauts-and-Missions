{
 "cells": [
  {
   "cell_type": "code",
   "execution_count": 2,
   "metadata": {},
   "outputs": [],
   "source": [
    "#import required libraries\n",
    "import numpy as np\n",
    "import pandas as pd\n",
    "import matplotlib.pyplot as plt\n",
    "import seaborn as sns"
   ]
  },
  {
   "cell_type": "code",
   "execution_count": 6,
   "metadata": {},
   "outputs": [
    {
     "data": {
      "text/html": [
       "<div>\n",
       "<style scoped>\n",
       "    .dataframe tbody tr th:only-of-type {\n",
       "        vertical-align: middle;\n",
       "    }\n",
       "\n",
       "    .dataframe tbody tr th {\n",
       "        vertical-align: top;\n",
       "    }\n",
       "\n",
       "    .dataframe thead th {\n",
       "        text-align: right;\n",
       "    }\n",
       "</style>\n",
       "<table border=\"1\" class=\"dataframe\">\n",
       "  <thead>\n",
       "    <tr style=\"text-align: right;\">\n",
       "      <th></th>\n",
       "      <th>id</th>\n",
       "      <th>number</th>\n",
       "      <th>nationwide_number</th>\n",
       "      <th>name</th>\n",
       "      <th>original_name</th>\n",
       "      <th>sex</th>\n",
       "      <th>year_of_birth</th>\n",
       "      <th>nationality</th>\n",
       "      <th>military_civilian</th>\n",
       "      <th>selection</th>\n",
       "      <th>...</th>\n",
       "      <th>year_of_mission</th>\n",
       "      <th>mission_title</th>\n",
       "      <th>ascend_shuttle</th>\n",
       "      <th>in_orbit</th>\n",
       "      <th>descend_shuttle</th>\n",
       "      <th>hours_mission</th>\n",
       "      <th>total_hrs_sum</th>\n",
       "      <th>field21</th>\n",
       "      <th>eva_hrs_mission</th>\n",
       "      <th>total_eva_hrs</th>\n",
       "    </tr>\n",
       "  </thead>\n",
       "  <tbody>\n",
       "    <tr>\n",
       "      <td>0</td>\n",
       "      <td>1208</td>\n",
       "      <td>513</td>\n",
       "      <td>105</td>\n",
       "      <td>Skvortsov, Aleksandr Jr.</td>\n",
       "      <td>Александр Александрович Скворцов</td>\n",
       "      <td>male</td>\n",
       "      <td>1966</td>\n",
       "      <td>U.S.S.R/Russia</td>\n",
       "      <td>military</td>\n",
       "      <td>TsPK-12</td>\n",
       "      <td>...</td>\n",
       "      <td>2019</td>\n",
       "      <td>60</td>\n",
       "      <td>Soyuz MS-13</td>\n",
       "      <td>ISS</td>\n",
       "      <td>not completed yet</td>\n",
       "      <td>4302.98</td>\n",
       "      <td>12588.98</td>\n",
       "      <td>0</td>\n",
       "      <td>0.00</td>\n",
       "      <td>12.67</td>\n",
       "    </tr>\n",
       "    <tr>\n",
       "      <td>1</td>\n",
       "      <td>1217</td>\n",
       "      <td>519</td>\n",
       "      <td>107</td>\n",
       "      <td>Skripochka, Oleg</td>\n",
       "      <td>Олег Иванович Скрипочка</td>\n",
       "      <td>male</td>\n",
       "      <td>1969</td>\n",
       "      <td>U.S.S.R/Russia</td>\n",
       "      <td>civilian</td>\n",
       "      <td>RKKE-14</td>\n",
       "      <td>...</td>\n",
       "      <td>2019</td>\n",
       "      <td>61</td>\n",
       "      <td>Soyuz MS-15</td>\n",
       "      <td>ISS</td>\n",
       "      <td>not completed yet</td>\n",
       "      <td>2697.53</td>\n",
       "      <td>10653.30</td>\n",
       "      <td>0</td>\n",
       "      <td>0.00</td>\n",
       "      <td>16.65</td>\n",
       "    </tr>\n",
       "    <tr>\n",
       "      <td>2</td>\n",
       "      <td>1238</td>\n",
       "      <td>532</td>\n",
       "      <td>6</td>\n",
       "      <td>Parmitano, Luca</td>\n",
       "      <td>Parmitano, Luca</td>\n",
       "      <td>male</td>\n",
       "      <td>1976</td>\n",
       "      <td>Italy</td>\n",
       "      <td>military</td>\n",
       "      <td>2009 ESA Group</td>\n",
       "      <td>...</td>\n",
       "      <td>2019</td>\n",
       "      <td>0</td>\n",
       "      <td>Soyuz MS-13</td>\n",
       "      <td>ISS</td>\n",
       "      <td>not completed yet</td>\n",
       "      <td>4303.03</td>\n",
       "      <td>8293.31</td>\n",
       "      <td>3</td>\n",
       "      <td>19.23</td>\n",
       "      <td>26.88</td>\n",
       "    </tr>\n",
       "    <tr>\n",
       "      <td>3</td>\n",
       "      <td>1257</td>\n",
       "      <td>547</td>\n",
       "      <td>120</td>\n",
       "      <td>Ovchinin, Aleksey</td>\n",
       "      <td>Алексей Николаевич Овчинин</td>\n",
       "      <td>male</td>\n",
       "      <td>1971</td>\n",
       "      <td>U.S.S.R/Russia</td>\n",
       "      <td>military</td>\n",
       "      <td>TsPK-14</td>\n",
       "      <td>...</td>\n",
       "      <td>2019</td>\n",
       "      <td>57</td>\n",
       "      <td>Soyuz MS-10</td>\n",
       "      <td>aborted</td>\n",
       "      <td>aborted</td>\n",
       "      <td>0.00</td>\n",
       "      <td>8995.75</td>\n",
       "      <td>0</td>\n",
       "      <td>0.00</td>\n",
       "      <td>6.00</td>\n",
       "    </tr>\n",
       "    <tr>\n",
       "      <td>4</td>\n",
       "      <td>1258</td>\n",
       "      <td>547</td>\n",
       "      <td>120</td>\n",
       "      <td>Ovchinin, Aleksey</td>\n",
       "      <td>Алексей Николаевич Овчинин</td>\n",
       "      <td>male</td>\n",
       "      <td>1971</td>\n",
       "      <td>U.S.S.R/Russia</td>\n",
       "      <td>military</td>\n",
       "      <td>TsPK-14</td>\n",
       "      <td>...</td>\n",
       "      <td>2019</td>\n",
       "      <td>59</td>\n",
       "      <td>Soyuz MS-12</td>\n",
       "      <td>ISS</td>\n",
       "      <td>Soyuz MS-12</td>\n",
       "      <td>4863.75</td>\n",
       "      <td>8995.75</td>\n",
       "      <td>1</td>\n",
       "      <td>6.00</td>\n",
       "      <td>6.00</td>\n",
       "    </tr>\n",
       "  </tbody>\n",
       "</table>\n",
       "<p>5 rows × 24 columns</p>\n",
       "</div>"
      ],
      "text/plain": [
       "     id  number  nationwide_number                      name  \\\n",
       "0  1208     513                105  Skvortsov, Aleksandr Jr.   \n",
       "1  1217     519                107          Skripochka, Oleg   \n",
       "2  1238     532                  6           Parmitano, Luca   \n",
       "3  1257     547                120         Ovchinin, Aleksey   \n",
       "4  1258     547                120         Ovchinin, Aleksey   \n",
       "\n",
       "                      original_name   sex  year_of_birth     nationality  \\\n",
       "0  Александр Александрович Скворцов  male           1966  U.S.S.R/Russia   \n",
       "1           Олег Иванович Скрипочка  male           1969  U.S.S.R/Russia   \n",
       "2                   Parmitano, Luca  male           1976           Italy   \n",
       "3        Алексей Николаевич Овчинин  male           1971  U.S.S.R/Russia   \n",
       "4        Алексей Николаевич Овчинин  male           1971  U.S.S.R/Russia   \n",
       "\n",
       "  military_civilian       selection  ...  year_of_mission  mission_title  \\\n",
       "0          military         TsPK-12  ...             2019             60   \n",
       "1          civilian         RKKE-14  ...             2019             61   \n",
       "2          military  2009 ESA Group  ...             2019              0   \n",
       "3          military         TsPK-14  ...             2019             57   \n",
       "4          military         TsPK-14  ...             2019             59   \n",
       "\n",
       "   ascend_shuttle in_orbit    descend_shuttle hours_mission total_hrs_sum  \\\n",
       "0     Soyuz MS-13      ISS  not completed yet       4302.98      12588.98   \n",
       "1     Soyuz MS-15      ISS  not completed yet       2697.53      10653.30   \n",
       "2     Soyuz MS-13      ISS  not completed yet       4303.03       8293.31   \n",
       "3     Soyuz MS-10  aborted            aborted          0.00       8995.75   \n",
       "4     Soyuz MS-12      ISS        Soyuz MS-12       4863.75       8995.75   \n",
       "\n",
       "  field21 eva_hrs_mission  total_eva_hrs  \n",
       "0       0            0.00          12.67  \n",
       "1       0            0.00          16.65  \n",
       "2       3           19.23          26.88  \n",
       "3       0            0.00           6.00  \n",
       "4       1            6.00           6.00  \n",
       "\n",
       "[5 rows x 24 columns]"
      ]
     },
     "execution_count": 6,
     "metadata": {},
     "output_type": "execute_result"
    }
   ],
   "source": [
    "#importing dataset\n",
    "df = pd.read_csv(r'/Users/navo/Documents/nPlan/astronaut_data/astronauts cleaned.csv')\n",
    "df.head()"
   ]
  },
  {
   "cell_type": "code",
   "execution_count": 7,
   "metadata": {},
   "outputs": [
    {
     "data": {
      "text/html": [
       "<div>\n",
       "<style scoped>\n",
       "    .dataframe tbody tr th:only-of-type {\n",
       "        vertical-align: middle;\n",
       "    }\n",
       "\n",
       "    .dataframe tbody tr th {\n",
       "        vertical-align: top;\n",
       "    }\n",
       "\n",
       "    .dataframe thead th {\n",
       "        text-align: right;\n",
       "    }\n",
       "</style>\n",
       "<table border=\"1\" class=\"dataframe\">\n",
       "  <thead>\n",
       "    <tr style=\"text-align: right;\">\n",
       "      <th></th>\n",
       "      <th>number</th>\n",
       "      <th>nationwide_number</th>\n",
       "      <th>name</th>\n",
       "      <th>original_name</th>\n",
       "      <th>sex</th>\n",
       "      <th>year_of_birth</th>\n",
       "      <th>nationality</th>\n",
       "      <th>military_civilian</th>\n",
       "      <th>selection</th>\n",
       "      <th>year_of_selection</th>\n",
       "      <th>...</th>\n",
       "      <th>year_of_mission</th>\n",
       "      <th>mission_title</th>\n",
       "      <th>ascend_shuttle</th>\n",
       "      <th>in_orbit</th>\n",
       "      <th>descend_shuttle</th>\n",
       "      <th>hours_mission</th>\n",
       "      <th>total_hrs_sum</th>\n",
       "      <th>field21</th>\n",
       "      <th>eva_hrs_mission</th>\n",
       "      <th>total_eva_hrs</th>\n",
       "    </tr>\n",
       "  </thead>\n",
       "  <tbody>\n",
       "    <tr>\n",
       "      <td>0</td>\n",
       "      <td>513</td>\n",
       "      <td>105</td>\n",
       "      <td>Skvortsov, Aleksandr Jr.</td>\n",
       "      <td>Александр Александрович Скворцов</td>\n",
       "      <td>male</td>\n",
       "      <td>1966</td>\n",
       "      <td>U.S.S.R/Russia</td>\n",
       "      <td>military</td>\n",
       "      <td>TsPK-12</td>\n",
       "      <td>1997</td>\n",
       "      <td>...</td>\n",
       "      <td>2019</td>\n",
       "      <td>60</td>\n",
       "      <td>Soyuz MS-13</td>\n",
       "      <td>ISS</td>\n",
       "      <td>not completed yet</td>\n",
       "      <td>4302.98</td>\n",
       "      <td>12588.98</td>\n",
       "      <td>0</td>\n",
       "      <td>0.00</td>\n",
       "      <td>12.67</td>\n",
       "    </tr>\n",
       "    <tr>\n",
       "      <td>1</td>\n",
       "      <td>519</td>\n",
       "      <td>107</td>\n",
       "      <td>Skripochka, Oleg</td>\n",
       "      <td>Олег Иванович Скрипочка</td>\n",
       "      <td>male</td>\n",
       "      <td>1969</td>\n",
       "      <td>U.S.S.R/Russia</td>\n",
       "      <td>civilian</td>\n",
       "      <td>RKKE-14</td>\n",
       "      <td>1997</td>\n",
       "      <td>...</td>\n",
       "      <td>2019</td>\n",
       "      <td>61</td>\n",
       "      <td>Soyuz MS-15</td>\n",
       "      <td>ISS</td>\n",
       "      <td>not completed yet</td>\n",
       "      <td>2697.53</td>\n",
       "      <td>10653.30</td>\n",
       "      <td>0</td>\n",
       "      <td>0.00</td>\n",
       "      <td>16.65</td>\n",
       "    </tr>\n",
       "    <tr>\n",
       "      <td>2</td>\n",
       "      <td>532</td>\n",
       "      <td>6</td>\n",
       "      <td>Parmitano, Luca</td>\n",
       "      <td>Parmitano, Luca</td>\n",
       "      <td>male</td>\n",
       "      <td>1976</td>\n",
       "      <td>Italy</td>\n",
       "      <td>military</td>\n",
       "      <td>2009 ESA Group</td>\n",
       "      <td>2009</td>\n",
       "      <td>...</td>\n",
       "      <td>2019</td>\n",
       "      <td>0</td>\n",
       "      <td>Soyuz MS-13</td>\n",
       "      <td>ISS</td>\n",
       "      <td>not completed yet</td>\n",
       "      <td>4303.03</td>\n",
       "      <td>8293.31</td>\n",
       "      <td>3</td>\n",
       "      <td>19.23</td>\n",
       "      <td>26.88</td>\n",
       "    </tr>\n",
       "    <tr>\n",
       "      <td>3</td>\n",
       "      <td>547</td>\n",
       "      <td>120</td>\n",
       "      <td>Ovchinin, Aleksey</td>\n",
       "      <td>Алексей Николаевич Овчинин</td>\n",
       "      <td>male</td>\n",
       "      <td>1971</td>\n",
       "      <td>U.S.S.R/Russia</td>\n",
       "      <td>military</td>\n",
       "      <td>TsPK-14</td>\n",
       "      <td>2006</td>\n",
       "      <td>...</td>\n",
       "      <td>2019</td>\n",
       "      <td>57</td>\n",
       "      <td>Soyuz MS-10</td>\n",
       "      <td>aborted</td>\n",
       "      <td>aborted</td>\n",
       "      <td>0.00</td>\n",
       "      <td>8995.75</td>\n",
       "      <td>0</td>\n",
       "      <td>0.00</td>\n",
       "      <td>6.00</td>\n",
       "    </tr>\n",
       "    <tr>\n",
       "      <td>4</td>\n",
       "      <td>547</td>\n",
       "      <td>120</td>\n",
       "      <td>Ovchinin, Aleksey</td>\n",
       "      <td>Алексей Николаевич Овчинин</td>\n",
       "      <td>male</td>\n",
       "      <td>1971</td>\n",
       "      <td>U.S.S.R/Russia</td>\n",
       "      <td>military</td>\n",
       "      <td>TsPK-14</td>\n",
       "      <td>2006</td>\n",
       "      <td>...</td>\n",
       "      <td>2019</td>\n",
       "      <td>59</td>\n",
       "      <td>Soyuz MS-12</td>\n",
       "      <td>ISS</td>\n",
       "      <td>Soyuz MS-12</td>\n",
       "      <td>4863.75</td>\n",
       "      <td>8995.75</td>\n",
       "      <td>1</td>\n",
       "      <td>6.00</td>\n",
       "      <td>6.00</td>\n",
       "    </tr>\n",
       "    <tr>\n",
       "      <td>...</td>\n",
       "      <td>...</td>\n",
       "      <td>...</td>\n",
       "      <td>...</td>\n",
       "      <td>...</td>\n",
       "      <td>...</td>\n",
       "      <td>...</td>\n",
       "      <td>...</td>\n",
       "      <td>...</td>\n",
       "      <td>...</td>\n",
       "      <td>...</td>\n",
       "      <td>...</td>\n",
       "      <td>...</td>\n",
       "      <td>...</td>\n",
       "      <td>...</td>\n",
       "      <td>...</td>\n",
       "      <td>...</td>\n",
       "      <td>...</td>\n",
       "      <td>...</td>\n",
       "      <td>...</td>\n",
       "      <td>...</td>\n",
       "      <td>...</td>\n",
       "    </tr>\n",
       "    <tr>\n",
       "      <td>1272</td>\n",
       "      <td>5</td>\n",
       "      <td>2</td>\n",
       "      <td>Nikolayev, Andriyan</td>\n",
       "      <td>НИКОЛАЕВ Андриян Григорьевич</td>\n",
       "      <td>male</td>\n",
       "      <td>1929</td>\n",
       "      <td>U.S.S.R/Russia</td>\n",
       "      <td>military</td>\n",
       "      <td>TsPK-1</td>\n",
       "      <td>1960</td>\n",
       "      <td>...</td>\n",
       "      <td>1962</td>\n",
       "      <td>Vostok 3</td>\n",
       "      <td>Vostok 3</td>\n",
       "      <td>Vostok 3</td>\n",
       "      <td>Vostok 3</td>\n",
       "      <td>94.00</td>\n",
       "      <td>519.33</td>\n",
       "      <td>0</td>\n",
       "      <td>0.00</td>\n",
       "      <td>0.00</td>\n",
       "    </tr>\n",
       "    <tr>\n",
       "      <td>1273</td>\n",
       "      <td>6</td>\n",
       "      <td>4</td>\n",
       "      <td>Popovich, Pavel</td>\n",
       "      <td>ПОПОВИЧ Павел Романович</td>\n",
       "      <td>male</td>\n",
       "      <td>1930</td>\n",
       "      <td>U.S.S.R/Russia</td>\n",
       "      <td>military</td>\n",
       "      <td>TsPK-1</td>\n",
       "      <td>1960</td>\n",
       "      <td>...</td>\n",
       "      <td>1962</td>\n",
       "      <td>Vostok 4</td>\n",
       "      <td>Vostok 4</td>\n",
       "      <td>Vostok 4</td>\n",
       "      <td>Vostok 4</td>\n",
       "      <td>70.93</td>\n",
       "      <td>448.45</td>\n",
       "      <td>0</td>\n",
       "      <td>0.00</td>\n",
       "      <td>0.00</td>\n",
       "    </tr>\n",
       "    <tr>\n",
       "      <td>1274</td>\n",
       "      <td>7</td>\n",
       "      <td>3</td>\n",
       "      <td>Schirra, Walter M., Jr.</td>\n",
       "      <td>Schirra, Walter M., Jr.</td>\n",
       "      <td>male</td>\n",
       "      <td>1923</td>\n",
       "      <td>U.S.</td>\n",
       "      <td>military</td>\n",
       "      <td>1959 NASA group 1</td>\n",
       "      <td>1959</td>\n",
       "      <td>...</td>\n",
       "      <td>1962</td>\n",
       "      <td>Mercury-Atlas 8</td>\n",
       "      <td>Mercury-Atlas 8</td>\n",
       "      <td>Mercury-Atlas 8</td>\n",
       "      <td>Mercury-Atlas 8</td>\n",
       "      <td>9.22</td>\n",
       "      <td>295.20</td>\n",
       "      <td>0</td>\n",
       "      <td>0.00</td>\n",
       "      <td>0.00</td>\n",
       "    </tr>\n",
       "    <tr>\n",
       "      <td>1275</td>\n",
       "      <td>1</td>\n",
       "      <td>1</td>\n",
       "      <td>Gagarin, Yuri</td>\n",
       "      <td>ГАГАРИН Юрий Алексеевич</td>\n",
       "      <td>male</td>\n",
       "      <td>1934</td>\n",
       "      <td>U.S.S.R/Russia</td>\n",
       "      <td>military</td>\n",
       "      <td>TsPK-1</td>\n",
       "      <td>1960</td>\n",
       "      <td>...</td>\n",
       "      <td>1961</td>\n",
       "      <td>Vostok 1</td>\n",
       "      <td>Vostok 1</td>\n",
       "      <td>Vostok 2</td>\n",
       "      <td>Vostok 3</td>\n",
       "      <td>1.77</td>\n",
       "      <td>1.77</td>\n",
       "      <td>0</td>\n",
       "      <td>0.00</td>\n",
       "      <td>0.00</td>\n",
       "    </tr>\n",
       "    <tr>\n",
       "      <td>1276</td>\n",
       "      <td>2</td>\n",
       "      <td>2</td>\n",
       "      <td>Titov, Gherman</td>\n",
       "      <td>ТИТОВ Герман Степанович</td>\n",
       "      <td>male</td>\n",
       "      <td>1935</td>\n",
       "      <td>U.S.S.R/Russia</td>\n",
       "      <td>military</td>\n",
       "      <td>TsPK-1</td>\n",
       "      <td>1960</td>\n",
       "      <td>...</td>\n",
       "      <td>1961</td>\n",
       "      <td>Vostok 2</td>\n",
       "      <td>Vostok 2</td>\n",
       "      <td>Vostok 2</td>\n",
       "      <td>Vostok 2</td>\n",
       "      <td>25.00</td>\n",
       "      <td>25.30</td>\n",
       "      <td>0</td>\n",
       "      <td>0.00</td>\n",
       "      <td>0.00</td>\n",
       "    </tr>\n",
       "  </tbody>\n",
       "</table>\n",
       "<p>1277 rows × 23 columns</p>\n",
       "</div>"
      ],
      "text/plain": [
       "      number  nationwide_number                      name  \\\n",
       "0        513                105  Skvortsov, Aleksandr Jr.   \n",
       "1        519                107          Skripochka, Oleg   \n",
       "2        532                  6           Parmitano, Luca   \n",
       "3        547                120         Ovchinin, Aleksey   \n",
       "4        547                120         Ovchinin, Aleksey   \n",
       "...      ...                ...                       ...   \n",
       "1272       5                  2       Nikolayev, Andriyan   \n",
       "1273       6                  4           Popovich, Pavel   \n",
       "1274       7                  3   Schirra, Walter M., Jr.   \n",
       "1275       1                  1             Gagarin, Yuri   \n",
       "1276       2                  2            Titov, Gherman   \n",
       "\n",
       "                         original_name   sex  year_of_birth     nationality  \\\n",
       "0     Александр Александрович Скворцов  male           1966  U.S.S.R/Russia   \n",
       "1              Олег Иванович Скрипочка  male           1969  U.S.S.R/Russia   \n",
       "2                      Parmitano, Luca  male           1976           Italy   \n",
       "3           Алексей Николаевич Овчинин  male           1971  U.S.S.R/Russia   \n",
       "4           Алексей Николаевич Овчинин  male           1971  U.S.S.R/Russia   \n",
       "...                                ...   ...            ...             ...   \n",
       "1272      НИКОЛАЕВ Андриян Григорьевич  male           1929  U.S.S.R/Russia   \n",
       "1273           ПОПОВИЧ Павел Романович  male           1930  U.S.S.R/Russia   \n",
       "1274           Schirra, Walter M., Jr.  male           1923            U.S.   \n",
       "1275           ГАГАРИН Юрий Алексеевич  male           1934  U.S.S.R/Russia   \n",
       "1276           ТИТОВ Герман Степанович  male           1935  U.S.S.R/Russia   \n",
       "\n",
       "     military_civilian          selection  year_of_selection  ...  \\\n",
       "0             military            TsPK-12               1997  ...   \n",
       "1             civilian            RKKE-14               1997  ...   \n",
       "2             military     2009 ESA Group               2009  ...   \n",
       "3             military            TsPK-14               2006  ...   \n",
       "4             military            TsPK-14               2006  ...   \n",
       "...                ...                ...                ...  ...   \n",
       "1272          military             TsPK-1               1960  ...   \n",
       "1273          military             TsPK-1               1960  ...   \n",
       "1274          military  1959 NASA group 1               1959  ...   \n",
       "1275          military             TsPK-1               1960  ...   \n",
       "1276          military             TsPK-1               1960  ...   \n",
       "\n",
       "      year_of_mission    mission_title   ascend_shuttle         in_orbit  \\\n",
       "0                2019               60      Soyuz MS-13              ISS   \n",
       "1                2019               61      Soyuz MS-15              ISS   \n",
       "2                2019                0      Soyuz MS-13              ISS   \n",
       "3                2019               57      Soyuz MS-10          aborted   \n",
       "4                2019               59      Soyuz MS-12              ISS   \n",
       "...               ...              ...              ...              ...   \n",
       "1272             1962         Vostok 3         Vostok 3         Vostok 3   \n",
       "1273             1962         Vostok 4         Vostok 4         Vostok 4   \n",
       "1274             1962  Mercury-Atlas 8  Mercury-Atlas 8  Mercury-Atlas 8   \n",
       "1275             1961         Vostok 1         Vostok 1         Vostok 2   \n",
       "1276             1961         Vostok 2         Vostok 2         Vostok 2   \n",
       "\n",
       "        descend_shuttle hours_mission total_hrs_sum field21  eva_hrs_mission  \\\n",
       "0     not completed yet       4302.98      12588.98       0             0.00   \n",
       "1     not completed yet       2697.53      10653.30       0             0.00   \n",
       "2     not completed yet       4303.03       8293.31       3            19.23   \n",
       "3               aborted          0.00       8995.75       0             0.00   \n",
       "4           Soyuz MS-12       4863.75       8995.75       1             6.00   \n",
       "...                 ...           ...           ...     ...              ...   \n",
       "1272           Vostok 3         94.00        519.33       0             0.00   \n",
       "1273           Vostok 4         70.93        448.45       0             0.00   \n",
       "1274    Mercury-Atlas 8          9.22        295.20       0             0.00   \n",
       "1275           Vostok 3          1.77          1.77       0             0.00   \n",
       "1276           Vostok 2         25.00         25.30       0             0.00   \n",
       "\n",
       "      total_eva_hrs  \n",
       "0             12.67  \n",
       "1             16.65  \n",
       "2             26.88  \n",
       "3              6.00  \n",
       "4              6.00  \n",
       "...             ...  \n",
       "1272           0.00  \n",
       "1273           0.00  \n",
       "1274           0.00  \n",
       "1275           0.00  \n",
       "1276           0.00  \n",
       "\n",
       "[1277 rows x 23 columns]"
      ]
     },
     "execution_count": 7,
     "metadata": {},
     "output_type": "execute_result"
    }
   ],
   "source": [
    "#dropping the id column\n",
    "df = df.drop(df.columns[0], axis=1)\n",
    "df"
   ]
  },
  {
   "cell_type": "code",
   "execution_count": 9,
   "metadata": {},
   "outputs": [
    {
     "data": {
      "text/plain": [
       "Series([], dtype: float64)"
      ]
     },
     "execution_count": 9,
     "metadata": {},
     "output_type": "execute_result"
    }
   ],
   "source": [
    "#verify that missing data has been dealt with in pre-processing\n",
    "df[df.columns[df.isnull().any()]].isnull().sum()"
   ]
  },
  {
   "cell_type": "code",
   "execution_count": 10,
   "metadata": {},
   "outputs": [
    {
     "data": {
      "text/plain": [
       "<matplotlib.axes._subplots.AxesSubplot at 0x7fe86a0b3b50>"
      ]
     },
     "execution_count": 10,
     "metadata": {},
     "output_type": "execute_result"
    },
    {
     "data": {
      "image/png": "[encoded data removed]",
      "text/plain": [
       "<Figure size 1800x720 with 2 Axes>"
      ]
     },
     "metadata": {
      "needs_background": "light"
     },
     "output_type": "display_data"
    }
   ],
   "source": [
    "#verify that missing data has been dealt with in pre-processing\n",
    "import missingno as msno\n",
    "msno.matrix(df)"
   ]
  },
  {
   "cell_type": "code",
   "execution_count": 14,
   "metadata": {},
   "outputs": [
    {
     "data": {
      "text/plain": [
       "Text(0.5, 1.0, 'Distribution of astronauts by gender')"
      ]
     },
     "execution_count": 14,
     "metadata": {},
     "output_type": "execute_result"
    },
    {
     "data": {
      "image/png": "[encoded data removed]",
      "text/plain": [
       "<Figure size 576x432 with 1 Axes>"
      ]
     },
     "metadata": {
      "needs_background": "light"
     },
     "output_type": "display_data"
    }
   ],
   "source": [
    "#Distribution of astronuats by gender\n",
    "plt.figure(figsize = (8,6))\n",
    "df['sex'].value_counts().plot(kind='bar')\n",
    "plt.ylabel('No. of astronauts')\n",
    "plt.title('Distribution of astronauts by gender')"
   ]
  },
  {
   "cell_type": "code",
   "execution_count": 21,
   "metadata": {},
   "outputs": [
    {
     "data": {
      "text/plain": [
       "year_of_mission\n",
       "1961    0.000000\n",
       "1962    0.000000\n",
       "1963    0.333333\n",
       "1964    0.000000\n",
       "1965    0.000000\n",
       "1966    0.000000\n",
       "1967    0.000000\n",
       "1968    0.000000\n",
       "1969    0.000000\n",
       "1970    0.000000\n",
       "1971    0.000000\n",
       "1972    0.000000\n",
       "1973    0.000000\n",
       "1974    0.000000\n",
       "1975    0.000000\n",
       "1976    0.000000\n",
       "1977    0.000000\n",
       "1978    0.000000\n",
       "1979    0.000000\n",
       "1980    0.000000\n",
       "1981    0.000000\n",
       "1982    0.062500\n",
       "1983    0.038462\n",
       "1984    0.135135\n",
       "1985    0.080645\n",
       "1986    0.066667\n",
       "1987    0.000000\n",
       "1988    0.000000\n",
       "1989    0.153846\n",
       "1990    0.075000\n",
       "1991    0.146341\n",
       "1992    0.155172\n",
       "1993    0.142857\n",
       "1994    0.140000\n",
       "1995    0.208333\n",
       "1996    0.106383\n",
       "1997    0.172414\n",
       "1998    0.153846\n",
       "1999    0.227273\n",
       "2000    0.135135\n",
       "2001    0.116279\n",
       "2002    0.142857\n",
       "2003    0.166667\n",
       "2004    0.000000\n",
       "2005    0.133333\n",
       "2006    0.200000\n",
       "2007    0.148148\n",
       "2008    0.128205\n",
       "2009    0.065217\n",
       "2010    0.200000\n",
       "2011    0.107143\n",
       "2012    0.133333\n",
       "2013    0.071429\n",
       "2014    0.153846\n",
       "2015    0.000000\n",
       "2016    0.142857\n",
       "2017    0.000000\n",
       "2018    0.200000\n",
       "2019    0.200000\n",
       "dtype: float64"
      ]
     },
     "execution_count": 21,
     "metadata": {},
     "output_type": "execute_result"
    }
   ],
   "source": [
    "#create an array to list out the ratio of female:male astronauts over the years, and replace nan with 0\n",
    "ratio = (df[df['sex'] == 'female']).groupby('year_of_mission').size() / df['sex'].groupby(df['year_of_mission']).size()\n",
    "ratio = ratio.fillna(0)\n",
    "ratio"
   ]
  },
  {
   "cell_type": "code",
   "execution_count": 85,
   "metadata": {},
   "outputs": [
    {
     "data": {
      "text/plain": [
       "Text(0.5, 1.0, 'Proportion of female astronauts over time')"
      ]
     },
     "execution_count": 85,
     "metadata": {},
     "output_type": "execute_result"
    },
    {
     "data": {
      "image/png": "[encoded data removed]",
      "text/plain": [
       "<Figure size 576x432 with 1 Axes>"
      ]
     },
     "metadata": {
      "needs_background": "light"
     },
     "output_type": "display_data"
    }
   ],
   "source": [
    "#plot of proportion of female astronauts over time\n",
    "plt.figure(figsize=(8,6))\n",
    "ratio.plot(kind='line')\n",
    "plt.ylabel('Proportion of female astronauts')\n",
    "plt.title('Proportion of female astronauts over time')"
   ]
  },
  {
   "cell_type": "code",
   "execution_count": 28,
   "metadata": {},
   "outputs": [
    {
     "data": {
      "text/plain": [
       "<matplotlib.collections.PathCollection at 0x7fe87092c1d0>"
      ]
     },
     "execution_count": 28,
     "metadata": {},
     "output_type": "execute_result"
    },
    {
     "data": {
      "image/png": "[encoded data removed]",
      "text/plain": [
       "<Figure size 432x288 with 1 Axes>"
      ]
     },
     "metadata": {
      "needs_background": "light"
     },
     "output_type": "display_data"
    }
   ],
   "source": [
    "#create the same plot as above as a scatter plot\n",
    "ratio1 = (df[df['sex'] == 'female']).groupby('year_of_mission').size() / (df[df['sex'] == 'male']).groupby(df['year_of_mission']).size()\n",
    "ratio1 = pd.DataFrame(ratio1).reset_index()\n",
    "ratio1.columns = ['year_of_mission','ratio']\n",
    "plt.scatter(ratio1.year_of_mission, ratio1.ratio)"
   ]
  },
  {
   "cell_type": "code",
   "execution_count": 90,
   "metadata": {},
   "outputs": [
    {
     "data": {
      "text/plain": [
       "Text(0.5, 1.0, 'Number of missions over time')"
      ]
     },
     "execution_count": 90,
     "metadata": {},
     "output_type": "execute_result"
    },
    {
     "data": {
      "image/png": "[encoded data removed]",
      "text/plain": [
       "<Figure size 576x432 with 1 Axes>"
      ]
     },
     "metadata": {
      "needs_background": "light"
     },
     "output_type": "display_data"
    }
   ],
   "source": [
    "#histogram to investigate how the number of missions has changed over the years/decades\n",
    "n_bins=6\n",
    "plt.figure(figsize=(8,6))\n",
    "plt.hist(df.year_of_mission, n_bins)\n",
    "plt.ylabel('Number of missions')\n",
    "plt.title('Number of missions over time')"
   ]
  },
  {
   "cell_type": "code",
   "execution_count": 92,
   "metadata": {},
   "outputs": [
    {
     "data": {
      "text/plain": [
       "Text(0.5, 1.0, 'Astronaut Ages')"
      ]
     },
     "execution_count": 92,
     "metadata": {},
     "output_type": "execute_result"
    },
    {
     "data": {
      "image/png": "[encoded data removed]",
      "text/plain": [
       "<Figure size 576x432 with 1 Axes>"
      ]
     },
     "metadata": {
      "needs_background": "light"
     },
     "output_type": "display_data"
    }
   ],
   "source": [
    "#create a new array called delay which represents the 'lag time' between birth and first mission\n",
    "delay = df['year_of_mission']-df['year_of_birth']\n",
    "#visualise delay in a histogram\n",
    "plt.figure(figsize=(8,6))\n",
    "plt.hist(delay, 10)\n",
    "plt.xlabel ('Age during mission')\n",
    "plt.ylabel('Count')\n",
    "plt.title('Astronaut Ages')"
   ]
  },
  {
   "cell_type": "code",
   "execution_count": 94,
   "metadata": {},
   "outputs": [
    {
     "data": {
      "text/plain": [
       "Text(0, 0.5, 'Year of mission')"
      ]
     },
     "execution_count": 94,
     "metadata": {},
     "output_type": "execute_result"
    },
    {
     "data": {
      "image/png": "[encoded data removed]",
      "text/plain": [
       "<Figure size 576x432 with 1 Axes>"
      ]
     },
     "metadata": {
      "needs_background": "light"
     },
     "output_type": "display_data"
    }
   ],
   "source": [
    "#investigating any correlation between astronauts ages and year of mission\n",
    "plt.figure(figsize=(8,6))\n",
    "plt.hist2d(delay,df.year_of_mission, bins=10)\n",
    "plt.xlabel('Age during mission')\n",
    "plt.ylabel('Year of mission')"
   ]
  },
  {
   "cell_type": "code",
   "execution_count": 36,
   "metadata": {},
   "outputs": [
    {
     "data": {
      "text/plain": [
       "(array([[ 35.,  54.,  38.,  91., 115., 252., 213.,  98., 103.,   7.],\n",
       "        [  0.,   0.,  10.,   3.,   2.,   2.,   2.,   0.,   3.,   2.],\n",
       "        [  0.,   0.,   2.,   0.,   3.,   7.,   5.,   1.,   7.,   3.],\n",
       "        [  0.,   0.,   2.,   4.,   5.,   9.,   8.,   5.,  41.,  28.],\n",
       "        [  0.,   0.,   0.,   4.,   0.,  14.,  17.,  23.,  18.,  21.],\n",
       "        [  0.,   0.,   0.,   4.,   1.,   0.,   0.,   0.,   0.,   0.],\n",
       "        [  0.,   0.,   0.,   0.,   0.,   0.,   0.,   0.,   0.,   3.],\n",
       "        [  0.,   0.,   0.,   0.,   1.,   1.,   0.,   0.,   0.,   3.],\n",
       "        [  0.,   0.,   0.,   0.,   2.,   0.,   1.,   0.,   0.,   0.],\n",
       "        [  0.,   0.,   0.,   0.,   0.,   1.,   0.,   0.,   0.,   3.]]),\n",
       " array([    0. ,  1050.5,  2101. ,  3151.5,  4202. ,  5252.5,  6303. ,\n",
       "         7353.5,  8404. ,  9454.5, 10505. ]),\n",
       " array([1961. , 1966.8, 1972.6, 1978.4, 1984.2, 1990. , 1995.8, 2001.6,\n",
       "        2007.4, 2013.2, 2019. ]),\n",
       " <matplotlib.collections.QuadMesh at 0x7fe870d73190>)"
      ]
     },
     "execution_count": 36,
     "metadata": {},
     "output_type": "execute_result"
    },
    {
     "data": {
      "image/png": "[encoded data removed]",
      "text/plain": [
       "<Figure size 576x432 with 1 Axes>"
      ]
     },
     "metadata": {
      "needs_background": "light"
     },
     "output_type": "display_data"
    }
   ],
   "source": [
    "#investigating any correlation between mission duration and year of mission\n",
    "plt.figure(figsize=(8,6))\n",
    "plt.xlabel('Mission duration')\n",
    "plt.ylabel('Year of mission')\n",
    "plt.hist2d(df.hours_mission,df.year_of_mission, bins=10)"
   ]
  },
  {
   "cell_type": "code",
   "execution_count": 38,
   "metadata": {},
   "outputs": [
    {
     "data": {
      "text/plain": [
       "(array([1006.,   24.,   28.,  102.,   97.,    5.,    3.,    5.,    3.,\n",
       "           4.]),\n",
       " array([    0. ,  1050.5,  2101. ,  3151.5,  4202. ,  5252.5,  6303. ,\n",
       "         7353.5,  8404. ,  9454.5, 10505. ]),\n",
       " <a list of 10 Patch objects>)"
      ]
     },
     "execution_count": 38,
     "metadata": {},
     "output_type": "execute_result"
    },
    {
     "data": {
      "image/png": "[encoded data removed]",
      "text/plain": [
       "<Figure size 576x432 with 1 Axes>"
      ]
     },
     "metadata": {
      "needs_background": "light"
     },
     "output_type": "display_data"
    }
   ],
   "source": [
    "#investigating distribution of mission duration\n",
    "plt.figure(figsize=(8,6))\n",
    "plt.title('Distribution of Mission Duration')\n",
    "plt.xlabel('Mission duration')\n",
    "plt.ylabel('Count')\n",
    "plt.hist(df.hours_mission, bins=10)"
   ]
  },
  {
   "cell_type": "code",
   "execution_count": 40,
   "metadata": {},
   "outputs": [
    {
     "data": {
      "text/plain": [
       "<matplotlib.legend.Legend at 0x7fe872158cd0>"
      ]
     },
     "execution_count": 40,
     "metadata": {},
     "output_type": "execute_result"
    },
    {
     "data": {
      "image/png": "[encoded data removed]",
      "text/plain": [
       "<Figure size 576x432 with 1 Axes>"
      ]
     },
     "metadata": {
      "needs_background": "light"
     },
     "output_type": "display_data"
    }
   ],
   "source": [
    "#investigating whether there is a difference in mission duration between male and female astronauts\n",
    "plt.figure(figsize=(8,6))\n",
    "plt.title('Distribution of Mission Duration')\n",
    "plt.xlabel('Mission duration')\n",
    "plt.ylabel('Count')\n",
    "plt.style.use('seaborn-deep')\n",
    "a = df[df['sex'] == 'female']\n",
    "b = df[df['sex'] == 'male']\n",
    "#using a log scale for the y-axis to adjust for difference in frequency of male vs. female astronauts\n",
    "plt.yscale('log', nonposy='clip')\n",
    "plt.hist(a.hours_mission, bins=50, alpha=0.5, label='female')\n",
    "plt.hist(b.hours_mission, bins=50, alpha=0.5, label='male')\n",
    "plt.legend(loc='upper right')\n"
   ]
  },
  {
   "cell_type": "code",
   "execution_count": 13,
   "metadata": {},
   "outputs": [
    {
     "data": {
      "text/plain": [
       "[<matplotlib.lines.Line2D at 0x7fd7ef9e3a90>]"
      ]
     },
     "execution_count": 13,
     "metadata": {},
     "output_type": "execute_result"
    },
    {
     "data": {
      "image/png": "[encoded data removed]",
      "text/plain": [
       "<Figure size 432x288 with 1 Axes>"
      ]
     },
     "metadata": {
      "needs_background": "light"
     },
     "output_type": "display_data"
    }
   ],
   "source": [
    "plt.scatter(df.year_of_mission, delay)\n",
    "m, b = (np.polyfit(df.year_of_mission, delay,1))\n",
    "plt.plot(df.year_of_mission, m*(df.year_of_mission)+b)"
   ]
  },
  {
   "cell_type": "code",
   "execution_count": 72,
   "metadata": {},
   "outputs": [
    {
     "data": {
      "text/plain": [
       "<matplotlib.axes._subplots.AxesSubplot at 0x7fe873f84590>"
      ]
     },
     "execution_count": 72,
     "metadata": {},
     "output_type": "execute_result"
    },
    {
     "data": {
      "image/png": "[encoded data removed]",
      "text/plain": [
       "<Figure size 576x432 with 1 Axes>"
      ]
     },
     "metadata": {
      "needs_background": "light"
     },
     "output_type": "display_data"
    }
   ],
   "source": [
    "#visualizing the top 5 occupations for astronauts\n",
    "plt.figure(figsize=(8,6))\n",
    "plt.title('Top 5 Occupations')\n",
    "plt.xlabel('Occupation')\n",
    "plt.ylabel('Count')\n",
    "df.occupation.value_counts()[0:5].plot(kind='bar')"
   ]
  },
  {
   "cell_type": "code",
   "execution_count": 84,
   "metadata": {},
   "outputs": [
    {
     "data": {
      "text/plain": [
       "Text(0, 0.5, 'Count')"
      ]
     },
     "execution_count": 84,
     "metadata": {},
     "output_type": "execute_result"
    },
    {
     "data": {
      "image/png": "[encoded data removed]",
      "text/plain": [
       "<Figure size 576x432 with 1 Axes>"
      ]
     },
     "metadata": {
      "needs_background": "light"
     },
     "output_type": "display_data"
    }
   ],
   "source": [
    "order1 = ['MSP','commander','pilot','flight engineer','PSP']\n",
    "#visualizing the top 5 occupations for astronauts by sex\n",
    "pd.crosstab(df.occupation,df.sex).loc[order1].plot(kind='bar', figsize = (8,6))\n",
    "plt.title('Top 5 Occupations')\n",
    "plt.xlabel('Occupation')\n",
    "plt.ylabel('Count')"
   ]
  },
  {
   "cell_type": "code",
   "execution_count": 42,
   "metadata": {},
   "outputs": [
    {
     "data": {
      "text/html": [
       "<div>\n",
       "<style scoped>\n",
       "    .dataframe tbody tr th:only-of-type {\n",
       "        vertical-align: middle;\n",
       "    }\n",
       "\n",
       "    .dataframe tbody tr th {\n",
       "        vertical-align: top;\n",
       "    }\n",
       "\n",
       "    .dataframe thead th {\n",
       "        text-align: right;\n",
       "    }\n",
       "</style>\n",
       "<table border=\"1\" class=\"dataframe\">\n",
       "  <thead>\n",
       "    <tr style=\"text-align: right;\">\n",
       "      <th></th>\n",
       "      <th>nationality</th>\n",
       "      <th>freq</th>\n",
       "    </tr>\n",
       "  </thead>\n",
       "  <tbody>\n",
       "    <tr>\n",
       "      <td>0</td>\n",
       "      <td>U.S.</td>\n",
       "      <td>854</td>\n",
       "    </tr>\n",
       "    <tr>\n",
       "      <td>1</td>\n",
       "      <td>U.S.S.R/Russia</td>\n",
       "      <td>273</td>\n",
       "    </tr>\n",
       "    <tr>\n",
       "      <td>2</td>\n",
       "      <td>Japan</td>\n",
       "      <td>20</td>\n",
       "    </tr>\n",
       "    <tr>\n",
       "      <td>3</td>\n",
       "      <td>Canada</td>\n",
       "      <td>18</td>\n",
       "    </tr>\n",
       "    <tr>\n",
       "      <td>4</td>\n",
       "      <td>France</td>\n",
       "      <td>18</td>\n",
       "    </tr>\n",
       "    <tr>\n",
       "      <td>5</td>\n",
       "      <td>Germany</td>\n",
       "      <td>16</td>\n",
       "    </tr>\n",
       "    <tr>\n",
       "      <td>6</td>\n",
       "      <td>China</td>\n",
       "      <td>14</td>\n",
       "    </tr>\n",
       "    <tr>\n",
       "      <td>7</td>\n",
       "      <td>Italy</td>\n",
       "      <td>13</td>\n",
       "    </tr>\n",
       "    <tr>\n",
       "      <td>8</td>\n",
       "      <td>U.K./U.S.</td>\n",
       "      <td>6</td>\n",
       "    </tr>\n",
       "    <tr>\n",
       "      <td>9</td>\n",
       "      <td>Switzerland</td>\n",
       "      <td>4</td>\n",
       "    </tr>\n",
       "    <tr>\n",
       "      <td>10</td>\n",
       "      <td>Australia</td>\n",
       "      <td>4</td>\n",
       "    </tr>\n",
       "    <tr>\n",
       "      <td>11</td>\n",
       "      <td>Belgium</td>\n",
       "      <td>3</td>\n",
       "    </tr>\n",
       "    <tr>\n",
       "      <td>12</td>\n",
       "      <td>Netherland</td>\n",
       "      <td>3</td>\n",
       "    </tr>\n",
       "    <tr>\n",
       "      <td>13</td>\n",
       "      <td>Sweden</td>\n",
       "      <td>2</td>\n",
       "    </tr>\n",
       "    <tr>\n",
       "      <td>14</td>\n",
       "      <td>U.K.</td>\n",
       "      <td>2</td>\n",
       "    </tr>\n",
       "    <tr>\n",
       "      <td>15</td>\n",
       "      <td>Bulgaria</td>\n",
       "      <td>2</td>\n",
       "    </tr>\n",
       "    <tr>\n",
       "      <td>16</td>\n",
       "      <td>Spain</td>\n",
       "      <td>2</td>\n",
       "    </tr>\n",
       "    <tr>\n",
       "      <td>17</td>\n",
       "      <td>Mexico</td>\n",
       "      <td>1</td>\n",
       "    </tr>\n",
       "    <tr>\n",
       "      <td>18</td>\n",
       "      <td>Syria</td>\n",
       "      <td>1</td>\n",
       "    </tr>\n",
       "    <tr>\n",
       "      <td>19</td>\n",
       "      <td>Czechoslovakia</td>\n",
       "      <td>1</td>\n",
       "    </tr>\n",
       "    <tr>\n",
       "      <td>20</td>\n",
       "      <td>Austria</td>\n",
       "      <td>1</td>\n",
       "    </tr>\n",
       "    <tr>\n",
       "      <td>21</td>\n",
       "      <td>Korea</td>\n",
       "      <td>1</td>\n",
       "    </tr>\n",
       "    <tr>\n",
       "      <td>22</td>\n",
       "      <td>Vietnam</td>\n",
       "      <td>1</td>\n",
       "    </tr>\n",
       "    <tr>\n",
       "      <td>23</td>\n",
       "      <td>Cuba</td>\n",
       "      <td>1</td>\n",
       "    </tr>\n",
       "    <tr>\n",
       "      <td>24</td>\n",
       "      <td>Kazakhstan</td>\n",
       "      <td>1</td>\n",
       "    </tr>\n",
       "    <tr>\n",
       "      <td>25</td>\n",
       "      <td>Israel</td>\n",
       "      <td>1</td>\n",
       "    </tr>\n",
       "    <tr>\n",
       "      <td>26</td>\n",
       "      <td>Saudi Arabia</td>\n",
       "      <td>1</td>\n",
       "    </tr>\n",
       "    <tr>\n",
       "      <td>27</td>\n",
       "      <td>U.S.S.R/Ukraine</td>\n",
       "      <td>1</td>\n",
       "    </tr>\n",
       "    <tr>\n",
       "      <td>28</td>\n",
       "      <td>Brazil</td>\n",
       "      <td>1</td>\n",
       "    </tr>\n",
       "    <tr>\n",
       "      <td>29</td>\n",
       "      <td>Poland</td>\n",
       "      <td>1</td>\n",
       "    </tr>\n",
       "    <tr>\n",
       "      <td>30</td>\n",
       "      <td>Mongolia</td>\n",
       "      <td>1</td>\n",
       "    </tr>\n",
       "    <tr>\n",
       "      <td>31</td>\n",
       "      <td>Afghanistan</td>\n",
       "      <td>1</td>\n",
       "    </tr>\n",
       "    <tr>\n",
       "      <td>32</td>\n",
       "      <td>Denmark</td>\n",
       "      <td>1</td>\n",
       "    </tr>\n",
       "    <tr>\n",
       "      <td>33</td>\n",
       "      <td>Slovakia</td>\n",
       "      <td>1</td>\n",
       "    </tr>\n",
       "    <tr>\n",
       "      <td>34</td>\n",
       "      <td>Romania</td>\n",
       "      <td>1</td>\n",
       "    </tr>\n",
       "    <tr>\n",
       "      <td>35</td>\n",
       "      <td>India</td>\n",
       "      <td>1</td>\n",
       "    </tr>\n",
       "    <tr>\n",
       "      <td>36</td>\n",
       "      <td>Hungary</td>\n",
       "      <td>1</td>\n",
       "    </tr>\n",
       "    <tr>\n",
       "      <td>37</td>\n",
       "      <td>Malysia</td>\n",
       "      <td>1</td>\n",
       "    </tr>\n",
       "    <tr>\n",
       "      <td>38</td>\n",
       "      <td>UAE</td>\n",
       "      <td>1</td>\n",
       "    </tr>\n",
       "    <tr>\n",
       "      <td>39</td>\n",
       "      <td>Republic of South Africa</td>\n",
       "      <td>1</td>\n",
       "    </tr>\n",
       "  </tbody>\n",
       "</table>\n",
       "</div>"
      ],
      "text/plain": [
       "                 nationality  freq\n",
       "0                       U.S.   854\n",
       "1             U.S.S.R/Russia   273\n",
       "2                      Japan    20\n",
       "3                     Canada    18\n",
       "4                     France    18\n",
       "5                    Germany    16\n",
       "6                      China    14\n",
       "7                      Italy    13\n",
       "8                  U.K./U.S.     6\n",
       "9                Switzerland     4\n",
       "10                 Australia     4\n",
       "11                   Belgium     3\n",
       "12                Netherland     3\n",
       "13                    Sweden     2\n",
       "14                      U.K.     2\n",
       "15                  Bulgaria     2\n",
       "16                     Spain     2\n",
       "17                    Mexico     1\n",
       "18                     Syria     1\n",
       "19            Czechoslovakia     1\n",
       "20                   Austria     1\n",
       "21                     Korea     1\n",
       "22                   Vietnam     1\n",
       "23                      Cuba     1\n",
       "24                Kazakhstan     1\n",
       "25                    Israel     1\n",
       "26              Saudi Arabia     1\n",
       "27           U.S.S.R/Ukraine     1\n",
       "28                    Brazil     1\n",
       "29                    Poland     1\n",
       "30                  Mongolia     1\n",
       "31               Afghanistan     1\n",
       "32                   Denmark     1\n",
       "33                  Slovakia     1\n",
       "34                   Romania     1\n",
       "35                     India     1\n",
       "36                   Hungary     1\n",
       "37                   Malysia     1\n",
       "38                       UAE     1\n",
       "39  Republic of South Africa     1"
      ]
     },
     "execution_count": 42,
     "metadata": {},
     "output_type": "execute_result"
    }
   ],
   "source": [
    "#creating a new df with the frequency of astronauts by nationality\n",
    "h = pd.DataFrame(df.nationality.value_counts()).reset_index()\n",
    "h.columns = ['nationality','freq']\n",
    "h"
   ]
  },
  {
   "cell_type": "code",
   "execution_count": 95,
   "metadata": {},
   "outputs": [
    {
     "data": {
      "text/plain": [
       "<BarContainer object of 10 artists>"
      ]
     },
     "execution_count": 95,
     "metadata": {},
     "output_type": "execute_result"
    },
    {
     "data": {
      "image/png": "[encoded data removed]",
      "text/plain": [
       "<Figure size 576x432 with 1 Axes>"
      ]
     },
     "metadata": {
      "needs_background": "light"
     },
     "output_type": "display_data"
    }
   ],
   "source": [
    "#plotting the above for the top 10 countries\n",
    "plt.figure(figsize=(8,6))\n",
    "plt.title('Astronauts by Nationality')\n",
    "plt.xlabel('Nationality')\n",
    "plt.ylabel('Count')\n",
    "plt.xticks(rotation=30)\n",
    "plt.bar(h.nationality[0:10], h.freq[0:10])"
   ]
  },
  {
   "cell_type": "code",
   "execution_count": 46,
   "metadata": {},
   "outputs": [
    {
     "data": {
      "text/html": [
       "<div>\n",
       "<style scoped>\n",
       "    .dataframe tbody tr th:only-of-type {\n",
       "        vertical-align: middle;\n",
       "    }\n",
       "\n",
       "    .dataframe tbody tr th {\n",
       "        vertical-align: top;\n",
       "    }\n",
       "\n",
       "    .dataframe thead th {\n",
       "        text-align: right;\n",
       "    }\n",
       "</style>\n",
       "<table border=\"1\" class=\"dataframe\">\n",
       "  <thead>\n",
       "    <tr style=\"text-align: right;\">\n",
       "      <th></th>\n",
       "      <th>inorbit</th>\n",
       "      <th>freq</th>\n",
       "    </tr>\n",
       "  </thead>\n",
       "  <tbody>\n",
       "    <tr>\n",
       "      <td>0</td>\n",
       "      <td>ISS</td>\n",
       "      <td>174</td>\n",
       "    </tr>\n",
       "    <tr>\n",
       "      <td>1</td>\n",
       "      <td>Mir</td>\n",
       "      <td>71</td>\n",
       "    </tr>\n",
       "    <tr>\n",
       "      <td>2</td>\n",
       "      <td>Salyut 6</td>\n",
       "      <td>24</td>\n",
       "    </tr>\n",
       "    <tr>\n",
       "      <td>3</td>\n",
       "      <td>Salyut 7</td>\n",
       "      <td>24</td>\n",
       "    </tr>\n",
       "    <tr>\n",
       "      <td>4</td>\n",
       "      <td>STS-42</td>\n",
       "      <td>8</td>\n",
       "    </tr>\n",
       "    <tr>\n",
       "      <td>...</td>\n",
       "      <td>...</td>\n",
       "      <td>...</td>\n",
       "    </tr>\n",
       "    <tr>\n",
       "      <td>284</td>\n",
       "      <td>Soyuz 40</td>\n",
       "      <td>1</td>\n",
       "    </tr>\n",
       "    <tr>\n",
       "      <td>285</td>\n",
       "      <td>STS­100</td>\n",
       "      <td>1</td>\n",
       "    </tr>\n",
       "    <tr>\n",
       "      <td>286</td>\n",
       "      <td>STS-51A</td>\n",
       "      <td>1</td>\n",
       "    </tr>\n",
       "    <tr>\n",
       "      <td>287</td>\n",
       "      <td>STS-151-C</td>\n",
       "      <td>1</td>\n",
       "    </tr>\n",
       "    <tr>\n",
       "      <td>288</td>\n",
       "      <td>Soyuz 21</td>\n",
       "      <td>1</td>\n",
       "    </tr>\n",
       "  </tbody>\n",
       "</table>\n",
       "<p>289 rows × 2 columns</p>\n",
       "</div>"
      ],
      "text/plain": [
       "       inorbit  freq\n",
       "0          ISS   174\n",
       "1          Mir    71\n",
       "2     Salyut 6    24\n",
       "3     Salyut 7    24\n",
       "4       STS-42     8\n",
       "..         ...   ...\n",
       "284   Soyuz 40     1\n",
       "285    STS­100     1\n",
       "286    STS-51A     1\n",
       "287  STS-151-C     1\n",
       "288   Soyuz 21     1\n",
       "\n",
       "[289 rows x 2 columns]"
      ]
     },
     "execution_count": 46,
     "metadata": {},
     "output_type": "execute_result"
    }
   ],
   "source": [
    "#create new df for the count of inorbit\n",
    "j = pd.DataFrame(df.in_orbit.value_counts()).reset_index()\n",
    "j.columns = ['inorbit','freq']\n",
    "j"
   ]
  },
  {
   "cell_type": "code",
   "execution_count": 48,
   "metadata": {},
   "outputs": [
    {
     "data": {
      "text/plain": [
       "<BarContainer object of 10 artists>"
      ]
     },
     "execution_count": 48,
     "metadata": {},
     "output_type": "execute_result"
    },
    {
     "data": {
      "image/png": "[encoded data removed]",
      "text/plain": [
       "<Figure size 576x432 with 1 Axes>"
      ]
     },
     "metadata": {
      "needs_background": "light"
     },
     "output_type": "display_data"
    }
   ],
   "source": [
    "#plotting j\n",
    "plt.figure(figsize=(8,6))\n",
    "plt.title('Inorbit Count Plot')\n",
    "plt.xlabel('Model')\n",
    "plt.ylabel('Count')\n",
    "plt.bar(j.inorbit[0:10], j.freq[0:10])"
   ]
  },
  {
   "cell_type": "code",
   "execution_count": 50,
   "metadata": {},
   "outputs": [
    {
     "data": {
      "text/plain": [
       "<matplotlib.axes._subplots.AxesSubplot at 0x7fe8731bbe50>"
      ]
     },
     "execution_count": 50,
     "metadata": {},
     "output_type": "execute_result"
    },
    {
     "data": {
      "image/png": "[encoded data removed]",
      "text/plain": [
       "<Figure size 576x432 with 1 Axes>"
      ]
     },
     "metadata": {
      "needs_background": "light"
     },
     "output_type": "display_data"
    }
   ],
   "source": [
    "#Plot of the top 10 countries with the highest mean mission duration time\n",
    "plt.figure(figsize=(8,6))\n",
    "plt.title('Mean Mission Duration Time')\n",
    "plt.xlabel('Nationality')\n",
    "plt.ylabel('Mission Duration (hrs)')\n",
    "df['total_hrs_sum'] = df['total_hrs_sum'].astype(float)\n",
    "df['total_hrs_sum'].groupby(df['nationality']).mean().sort_values(ascending = False)[0:15].plot(kind='bar')"
   ]
  },
  {
   "cell_type": "code",
   "execution_count": 51,
   "metadata": {},
   "outputs": [
    {
     "data": {
      "text/plain": [
       "<matplotlib.axes._subplots.AxesSubplot at 0x7fe8733e1550>"
      ]
     },
     "execution_count": 51,
     "metadata": {},
     "output_type": "execute_result"
    },
    {
     "data": {
      "image/png": "[encoded data removed]",
      "text/plain": [
       "<Figure size 576x432 with 1 Axes>"
      ]
     },
     "metadata": {
      "needs_background": "light"
     },
     "output_type": "display_data"
    }
   ],
   "source": [
    "#Plot of the top 10 countries with the highest sum of mission duration times\n",
    "plt.figure(figsize=(8,6))\n",
    "plt.title('Sum of Mission Duration Times')\n",
    "plt.xlabel('Nationality')\n",
    "plt.ylabel('Cumulative Mission Duration (hrs)')\n",
    "df['total_hrs_sum'] = df['total_hrs_sum'].astype(float)\n",
    "df['total_hrs_sum'].groupby(df['nationality']).sum().sort_values(ascending = False)[0:10].plot(kind='bar')"
   ]
  },
  {
   "cell_type": "code",
   "execution_count": 61,
   "metadata": {},
   "outputs": [
    {
     "data": {
      "text/plain": [
       "0       10\n",
       "1       10\n",
       "2       10\n",
       "3       10\n",
       "4       10\n",
       "        ..\n",
       "1272    60\n",
       "1273    60\n",
       "1274    60\n",
       "1275    60\n",
       "1276    60\n",
       "Name: decade, Length: 1277, dtype: category\n",
       "Categories (6, object): [00, 10, 60, 70, 80, 90]"
      ]
     },
     "execution_count": 61,
     "metadata": {},
     "output_type": "execute_result"
    }
   ],
   "source": [
    "#add a new column called decade\n",
    "df['decade'] = df['year_of_mission'].astype(str).apply(lambda x: x[2] + '0').astype('category')\n",
    "df['decade']"
   ]
  },
  {
   "cell_type": "code",
   "execution_count": 62,
   "metadata": {},
   "outputs": [
    {
     "data": {
      "text/plain": [
       "['U.S.S.R/Russia', 'U.S.', 'Japan', 'Italy', 'Germany']"
      ]
     },
     "execution_count": 62,
     "metadata": {},
     "output_type": "execute_result"
    }
   ],
   "source": [
    "top5 = df['total_hrs_sum'].groupby(df['nationality']).sum().sort_values(ascending = False)[0:5]\n",
    "top5 = pd.DataFrame(top5).reset_index()\n",
    "list(top5['nationality'])"
   ]
  },
  {
   "cell_type": "code",
   "execution_count": 63,
   "metadata": {},
   "outputs": [
    {
     "data": {
      "text/html": [
       "<div>\n",
       "<style scoped>\n",
       "    .dataframe tbody tr th:only-of-type {\n",
       "        vertical-align: middle;\n",
       "    }\n",
       "\n",
       "    .dataframe tbody tr th {\n",
       "        vertical-align: top;\n",
       "    }\n",
       "\n",
       "    .dataframe thead th {\n",
       "        text-align: right;\n",
       "    }\n",
       "</style>\n",
       "<table border=\"1\" class=\"dataframe\">\n",
       "  <thead>\n",
       "    <tr style=\"text-align: right;\">\n",
       "      <th></th>\n",
       "      <th>number</th>\n",
       "      <th>nationwide_number</th>\n",
       "      <th>name</th>\n",
       "      <th>original_name</th>\n",
       "      <th>sex</th>\n",
       "      <th>year_of_birth</th>\n",
       "      <th>nationality</th>\n",
       "      <th>military_civilian</th>\n",
       "      <th>selection</th>\n",
       "      <th>year_of_selection</th>\n",
       "      <th>...</th>\n",
       "      <th>mission_title</th>\n",
       "      <th>ascend_shuttle</th>\n",
       "      <th>in_orbit</th>\n",
       "      <th>descend_shuttle</th>\n",
       "      <th>hours_mission</th>\n",
       "      <th>total_hrs_sum</th>\n",
       "      <th>field21</th>\n",
       "      <th>eva_hrs_mission</th>\n",
       "      <th>total_eva_hrs</th>\n",
       "      <th>decade</th>\n",
       "    </tr>\n",
       "  </thead>\n",
       "  <tbody>\n",
       "    <tr>\n",
       "      <td>0</td>\n",
       "      <td>513</td>\n",
       "      <td>105</td>\n",
       "      <td>Skvortsov, Aleksandr Jr.</td>\n",
       "      <td>Александр Александрович Скворцов</td>\n",
       "      <td>male</td>\n",
       "      <td>1966</td>\n",
       "      <td>U.S.S.R/Russia</td>\n",
       "      <td>military</td>\n",
       "      <td>TsPK-12</td>\n",
       "      <td>1997</td>\n",
       "      <td>...</td>\n",
       "      <td>60</td>\n",
       "      <td>Soyuz MS-13</td>\n",
       "      <td>ISS</td>\n",
       "      <td>not completed yet</td>\n",
       "      <td>4302.98</td>\n",
       "      <td>12588.98</td>\n",
       "      <td>0</td>\n",
       "      <td>0.00</td>\n",
       "      <td>12.67</td>\n",
       "      <td>10</td>\n",
       "    </tr>\n",
       "    <tr>\n",
       "      <td>1</td>\n",
       "      <td>519</td>\n",
       "      <td>107</td>\n",
       "      <td>Skripochka, Oleg</td>\n",
       "      <td>Олег Иванович Скрипочка</td>\n",
       "      <td>male</td>\n",
       "      <td>1969</td>\n",
       "      <td>U.S.S.R/Russia</td>\n",
       "      <td>civilian</td>\n",
       "      <td>RKKE-14</td>\n",
       "      <td>1997</td>\n",
       "      <td>...</td>\n",
       "      <td>61</td>\n",
       "      <td>Soyuz MS-15</td>\n",
       "      <td>ISS</td>\n",
       "      <td>not completed yet</td>\n",
       "      <td>2697.53</td>\n",
       "      <td>10653.30</td>\n",
       "      <td>0</td>\n",
       "      <td>0.00</td>\n",
       "      <td>16.65</td>\n",
       "      <td>10</td>\n",
       "    </tr>\n",
       "    <tr>\n",
       "      <td>2</td>\n",
       "      <td>532</td>\n",
       "      <td>6</td>\n",
       "      <td>Parmitano, Luca</td>\n",
       "      <td>Parmitano, Luca</td>\n",
       "      <td>male</td>\n",
       "      <td>1976</td>\n",
       "      <td>Italy</td>\n",
       "      <td>military</td>\n",
       "      <td>2009 ESA Group</td>\n",
       "      <td>2009</td>\n",
       "      <td>...</td>\n",
       "      <td>0</td>\n",
       "      <td>Soyuz MS-13</td>\n",
       "      <td>ISS</td>\n",
       "      <td>not completed yet</td>\n",
       "      <td>4303.03</td>\n",
       "      <td>8293.31</td>\n",
       "      <td>3</td>\n",
       "      <td>19.23</td>\n",
       "      <td>26.88</td>\n",
       "      <td>10</td>\n",
       "    </tr>\n",
       "    <tr>\n",
       "      <td>3</td>\n",
       "      <td>547</td>\n",
       "      <td>120</td>\n",
       "      <td>Ovchinin, Aleksey</td>\n",
       "      <td>Алексей Николаевич Овчинин</td>\n",
       "      <td>male</td>\n",
       "      <td>1971</td>\n",
       "      <td>U.S.S.R/Russia</td>\n",
       "      <td>military</td>\n",
       "      <td>TsPK-14</td>\n",
       "      <td>2006</td>\n",
       "      <td>...</td>\n",
       "      <td>57</td>\n",
       "      <td>Soyuz MS-10</td>\n",
       "      <td>aborted</td>\n",
       "      <td>aborted</td>\n",
       "      <td>0.00</td>\n",
       "      <td>8995.75</td>\n",
       "      <td>0</td>\n",
       "      <td>0.00</td>\n",
       "      <td>6.00</td>\n",
       "      <td>10</td>\n",
       "    </tr>\n",
       "    <tr>\n",
       "      <td>4</td>\n",
       "      <td>547</td>\n",
       "      <td>120</td>\n",
       "      <td>Ovchinin, Aleksey</td>\n",
       "      <td>Алексей Николаевич Овчинин</td>\n",
       "      <td>male</td>\n",
       "      <td>1971</td>\n",
       "      <td>U.S.S.R/Russia</td>\n",
       "      <td>military</td>\n",
       "      <td>TsPK-14</td>\n",
       "      <td>2006</td>\n",
       "      <td>...</td>\n",
       "      <td>59</td>\n",
       "      <td>Soyuz MS-12</td>\n",
       "      <td>ISS</td>\n",
       "      <td>Soyuz MS-12</td>\n",
       "      <td>4863.75</td>\n",
       "      <td>8995.75</td>\n",
       "      <td>1</td>\n",
       "      <td>6.00</td>\n",
       "      <td>6.00</td>\n",
       "      <td>10</td>\n",
       "    </tr>\n",
       "    <tr>\n",
       "      <td>...</td>\n",
       "      <td>...</td>\n",
       "      <td>...</td>\n",
       "      <td>...</td>\n",
       "      <td>...</td>\n",
       "      <td>...</td>\n",
       "      <td>...</td>\n",
       "      <td>...</td>\n",
       "      <td>...</td>\n",
       "      <td>...</td>\n",
       "      <td>...</td>\n",
       "      <td>...</td>\n",
       "      <td>...</td>\n",
       "      <td>...</td>\n",
       "      <td>...</td>\n",
       "      <td>...</td>\n",
       "      <td>...</td>\n",
       "      <td>...</td>\n",
       "      <td>...</td>\n",
       "      <td>...</td>\n",
       "      <td>...</td>\n",
       "      <td>...</td>\n",
       "    </tr>\n",
       "    <tr>\n",
       "      <td>1272</td>\n",
       "      <td>5</td>\n",
       "      <td>2</td>\n",
       "      <td>Nikolayev, Andriyan</td>\n",
       "      <td>НИКОЛАЕВ Андриян Григорьевич</td>\n",
       "      <td>male</td>\n",
       "      <td>1929</td>\n",
       "      <td>U.S.S.R/Russia</td>\n",
       "      <td>military</td>\n",
       "      <td>TsPK-1</td>\n",
       "      <td>1960</td>\n",
       "      <td>...</td>\n",
       "      <td>Vostok 3</td>\n",
       "      <td>Vostok 3</td>\n",
       "      <td>Vostok 3</td>\n",
       "      <td>Vostok 3</td>\n",
       "      <td>94.00</td>\n",
       "      <td>519.33</td>\n",
       "      <td>0</td>\n",
       "      <td>0.00</td>\n",
       "      <td>0.00</td>\n",
       "      <td>60</td>\n",
       "    </tr>\n",
       "    <tr>\n",
       "      <td>1273</td>\n",
       "      <td>6</td>\n",
       "      <td>4</td>\n",
       "      <td>Popovich, Pavel</td>\n",
       "      <td>ПОПОВИЧ Павел Романович</td>\n",
       "      <td>male</td>\n",
       "      <td>1930</td>\n",
       "      <td>U.S.S.R/Russia</td>\n",
       "      <td>military</td>\n",
       "      <td>TsPK-1</td>\n",
       "      <td>1960</td>\n",
       "      <td>...</td>\n",
       "      <td>Vostok 4</td>\n",
       "      <td>Vostok 4</td>\n",
       "      <td>Vostok 4</td>\n",
       "      <td>Vostok 4</td>\n",
       "      <td>70.93</td>\n",
       "      <td>448.45</td>\n",
       "      <td>0</td>\n",
       "      <td>0.00</td>\n",
       "      <td>0.00</td>\n",
       "      <td>60</td>\n",
       "    </tr>\n",
       "    <tr>\n",
       "      <td>1274</td>\n",
       "      <td>7</td>\n",
       "      <td>3</td>\n",
       "      <td>Schirra, Walter M., Jr.</td>\n",
       "      <td>Schirra, Walter M., Jr.</td>\n",
       "      <td>male</td>\n",
       "      <td>1923</td>\n",
       "      <td>U.S.</td>\n",
       "      <td>military</td>\n",
       "      <td>1959 NASA group 1</td>\n",
       "      <td>1959</td>\n",
       "      <td>...</td>\n",
       "      <td>Mercury-Atlas 8</td>\n",
       "      <td>Mercury-Atlas 8</td>\n",
       "      <td>Mercury-Atlas 8</td>\n",
       "      <td>Mercury-Atlas 8</td>\n",
       "      <td>9.22</td>\n",
       "      <td>295.20</td>\n",
       "      <td>0</td>\n",
       "      <td>0.00</td>\n",
       "      <td>0.00</td>\n",
       "      <td>60</td>\n",
       "    </tr>\n",
       "    <tr>\n",
       "      <td>1275</td>\n",
       "      <td>1</td>\n",
       "      <td>1</td>\n",
       "      <td>Gagarin, Yuri</td>\n",
       "      <td>ГАГАРИН Юрий Алексеевич</td>\n",
       "      <td>male</td>\n",
       "      <td>1934</td>\n",
       "      <td>U.S.S.R/Russia</td>\n",
       "      <td>military</td>\n",
       "      <td>TsPK-1</td>\n",
       "      <td>1960</td>\n",
       "      <td>...</td>\n",
       "      <td>Vostok 1</td>\n",
       "      <td>Vostok 1</td>\n",
       "      <td>Vostok 2</td>\n",
       "      <td>Vostok 3</td>\n",
       "      <td>1.77</td>\n",
       "      <td>1.77</td>\n",
       "      <td>0</td>\n",
       "      <td>0.00</td>\n",
       "      <td>0.00</td>\n",
       "      <td>60</td>\n",
       "    </tr>\n",
       "    <tr>\n",
       "      <td>1276</td>\n",
       "      <td>2</td>\n",
       "      <td>2</td>\n",
       "      <td>Titov, Gherman</td>\n",
       "      <td>ТИТОВ Герман Степанович</td>\n",
       "      <td>male</td>\n",
       "      <td>1935</td>\n",
       "      <td>U.S.S.R/Russia</td>\n",
       "      <td>military</td>\n",
       "      <td>TsPK-1</td>\n",
       "      <td>1960</td>\n",
       "      <td>...</td>\n",
       "      <td>Vostok 2</td>\n",
       "      <td>Vostok 2</td>\n",
       "      <td>Vostok 2</td>\n",
       "      <td>Vostok 2</td>\n",
       "      <td>25.00</td>\n",
       "      <td>25.30</td>\n",
       "      <td>0</td>\n",
       "      <td>0.00</td>\n",
       "      <td>0.00</td>\n",
       "      <td>60</td>\n",
       "    </tr>\n",
       "  </tbody>\n",
       "</table>\n",
       "<p>1176 rows × 24 columns</p>\n",
       "</div>"
      ],
      "text/plain": [
       "      number  nationwide_number                      name  \\\n",
       "0        513                105  Skvortsov, Aleksandr Jr.   \n",
       "1        519                107          Skripochka, Oleg   \n",
       "2        532                  6           Parmitano, Luca   \n",
       "3        547                120         Ovchinin, Aleksey   \n",
       "4        547                120         Ovchinin, Aleksey   \n",
       "...      ...                ...                       ...   \n",
       "1272       5                  2       Nikolayev, Andriyan   \n",
       "1273       6                  4           Popovich, Pavel   \n",
       "1274       7                  3   Schirra, Walter M., Jr.   \n",
       "1275       1                  1             Gagarin, Yuri   \n",
       "1276       2                  2            Titov, Gherman   \n",
       "\n",
       "                         original_name   sex  year_of_birth     nationality  \\\n",
       "0     Александр Александрович Скворцов  male           1966  U.S.S.R/Russia   \n",
       "1              Олег Иванович Скрипочка  male           1969  U.S.S.R/Russia   \n",
       "2                      Parmitano, Luca  male           1976           Italy   \n",
       "3           Алексей Николаевич Овчинин  male           1971  U.S.S.R/Russia   \n",
       "4           Алексей Николаевич Овчинин  male           1971  U.S.S.R/Russia   \n",
       "...                                ...   ...            ...             ...   \n",
       "1272      НИКОЛАЕВ Андриян Григорьевич  male           1929  U.S.S.R/Russia   \n",
       "1273           ПОПОВИЧ Павел Романович  male           1930  U.S.S.R/Russia   \n",
       "1274           Schirra, Walter M., Jr.  male           1923            U.S.   \n",
       "1275           ГАГАРИН Юрий Алексеевич  male           1934  U.S.S.R/Russia   \n",
       "1276           ТИТОВ Герман Степанович  male           1935  U.S.S.R/Russia   \n",
       "\n",
       "     military_civilian          selection  year_of_selection  ...  \\\n",
       "0             military            TsPK-12               1997  ...   \n",
       "1             civilian            RKKE-14               1997  ...   \n",
       "2             military     2009 ESA Group               2009  ...   \n",
       "3             military            TsPK-14               2006  ...   \n",
       "4             military            TsPK-14               2006  ...   \n",
       "...                ...                ...                ...  ...   \n",
       "1272          military             TsPK-1               1960  ...   \n",
       "1273          military             TsPK-1               1960  ...   \n",
       "1274          military  1959 NASA group 1               1959  ...   \n",
       "1275          military             TsPK-1               1960  ...   \n",
       "1276          military             TsPK-1               1960  ...   \n",
       "\n",
       "        mission_title   ascend_shuttle         in_orbit    descend_shuttle  \\\n",
       "0                  60      Soyuz MS-13              ISS  not completed yet   \n",
       "1                  61      Soyuz MS-15              ISS  not completed yet   \n",
       "2                   0      Soyuz MS-13              ISS  not completed yet   \n",
       "3                  57      Soyuz MS-10          aborted            aborted   \n",
       "4                  59      Soyuz MS-12              ISS        Soyuz MS-12   \n",
       "...               ...              ...              ...                ...   \n",
       "1272         Vostok 3         Vostok 3         Vostok 3           Vostok 3   \n",
       "1273         Vostok 4         Vostok 4         Vostok 4           Vostok 4   \n",
       "1274  Mercury-Atlas 8  Mercury-Atlas 8  Mercury-Atlas 8    Mercury-Atlas 8   \n",
       "1275         Vostok 1         Vostok 1         Vostok 2           Vostok 3   \n",
       "1276         Vostok 2         Vostok 2         Vostok 2           Vostok 2   \n",
       "\n",
       "     hours_mission total_hrs_sum field21 eva_hrs_mission  total_eva_hrs  \\\n",
       "0          4302.98      12588.98       0            0.00          12.67   \n",
       "1          2697.53      10653.30       0            0.00          16.65   \n",
       "2          4303.03       8293.31       3           19.23          26.88   \n",
       "3             0.00       8995.75       0            0.00           6.00   \n",
       "4          4863.75       8995.75       1            6.00           6.00   \n",
       "...            ...           ...     ...             ...            ...   \n",
       "1272         94.00        519.33       0            0.00           0.00   \n",
       "1273         70.93        448.45       0            0.00           0.00   \n",
       "1274          9.22        295.20       0            0.00           0.00   \n",
       "1275          1.77          1.77       0            0.00           0.00   \n",
       "1276         25.00         25.30       0            0.00           0.00   \n",
       "\n",
       "      decade  \n",
       "0         10  \n",
       "1         10  \n",
       "2         10  \n",
       "3         10  \n",
       "4         10  \n",
       "...      ...  \n",
       "1272      60  \n",
       "1273      60  \n",
       "1274      60  \n",
       "1275      60  \n",
       "1276      60  \n",
       "\n",
       "[1176 rows x 24 columns]"
      ]
     },
     "execution_count": 63,
     "metadata": {},
     "output_type": "execute_result"
    }
   ],
   "source": [
    "#create a new dataframe with data only for countries who are in top5, i.e top5 countries by total mission time\n",
    "df1 = df[df['nationality'].isin(list(top5['nationality']))]\n",
    "df1"
   ]
  },
  {
   "cell_type": "code",
   "execution_count": 68,
   "metadata": {},
   "outputs": [
    {
     "data": {
      "image/png": "[encoded data removed]",
      "text/plain": [
       "<Figure size 540.625x432 with 1 Axes>"
      ]
     },
     "metadata": {
      "needs_background": "light"
     },
     "output_type": "display_data"
    }
   ],
   "source": [
    "#Plot of how the missions of the top5 countries by total mission time have changed over time\n",
    "import seaborn as sns\n",
    "sns.catplot(\n",
    "    data=df1, kind=\"bar\",\n",
    "    x=\"decade\", y=\"hours_mission\", hue=\"nationality\",\n",
    "    alpha = 0.6, palette=\"dark\", height=6)\n",
    "sns.despine(left=True)"
   ]
  },
  {
   "cell_type": "code",
   "execution_count": null,
   "metadata": {},
   "outputs": [],
   "source": []
  }
 ],
 "metadata": {
  "kernelspec": {
   "display_name": "Python 3",
   "language": "python",
   "name": "python3"
  },
  "language_info": {
   "codemirror_mode": {
    "name": "ipython",
    "version": 3
   },
   "file_extension": ".py",
   "mimetype": "text/x-python",
   "name": "python",
   "nbconvert_exporter": "python",
   "pygments_lexer": "ipython3",
   "version": "3.7.4"
  }
 },
 "nbformat": 4,
 "nbformat_minor": 2
}
